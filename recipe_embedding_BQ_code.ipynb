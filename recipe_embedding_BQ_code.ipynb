{
  "cells": [
    {
      "cell_type": "code",
      "id": "kVLyxYgGTo5iEjUi4MiIN6mZ",
      "metadata": {
        "tags": [],
        "id": "kVLyxYgGTo5iEjUi4MiIN6mZ"
      },
      "source": [
        "### Personal Dataset Name: showcase\n",
        "### https://www.kaggle.com/datasets/wilmerarltstrmberg/recipe-dataset-over-2m\n",
        "\n",
        "######### STEP 1) Check Public dataset\n",
        "SELECT * FROM `solution-play.showcase.recipe` LIMIT 1000\n",
        "\n",
        "######### STEP 2) filter out to reduce size\n",
        "CREATE OR REPLACE TABLE showcase.recipe_shorten\n",
        "AS SELECT ` title` as title, ingredients, directions\n",
        "FROM `solution-play.showcase.recipe` limit 20000;\n",
        "\n",
        "######### STEP 3) Connection/모델 생성\n",
        "CREATE OR REPLACE MODEL `showcase.text_embedding_model`\n",
        "REMOTE WITH CONNECTION `solution-play.us.remote_model_connection`\n",
        "OPTIONS(endpoint = 'text-embedding-preview-0409');\n",
        "\n",
        "######### STEP 4) Generate Embedding\n",
        "CREATE OR REPLACE TABLE `solution-play.showcase.embedding_for_recipe` AS (\n",
        "SELECT *\n",
        "FROM ML.GENERATE_EMBEDDING(\n",
        "  MODEL `solution-play.showcase.text_embedding_model`,\n",
        "  (SELECT ingredients as content, title, ingredients, directions from `solution-play.showcase.recipe_shorten`),\n",
        "  STRUCT(TRUE AS flatten_json_output)\n",
        ")WHERE ARRAY_LENGTH(ml_generate_embedding_result)=768);\n",
        "\n",
        "######### STEP 5)  Generate Index\n",
        "## https://cloud.google.com/bigquery/docs/vector-index?hl=ko\n",
        "CREATE OR REPLACE VECTOR INDEX embeddings_index ON showcase.embedding_for_recipe(ml_generate_embedding_result)\n",
        "OPTIONS(\n",
        "  index_type = 'IVF',\n",
        "  distance_type = 'COSINE',\n",
        "  ivf_options = '{\"num_lists\":500}'\n",
        ");\n",
        "\n",
        "######### STEP 6) Information Schema to check the progress of the index\n",
        "SELECT * FROM `solution-play.showcase.INFORMATION_SCHEMA.VECTOR_INDEX_COLUMNS`;\n",
        "\n",
        "######### STEP 7) Semantic Search\n",
        "SELECT query.query, base.title, base.content, base.directions\n",
        "FROM VECTOR_SEARCH(\n",
        "  TABLE `showcase.embedding_for_recipe`, 'ml_generate_embedding_result',\n",
        "  (\n",
        "  SELECT ml_generate_embedding_result, content AS query\n",
        "  FROM ML.GENERATE_EMBEDDING(\n",
        "  MODEL `solution-play.showcase.text_embedding_model`,\n",
        "  (SELECT 'egg tart?' AS content))\n",
        "  ),\n",
        "  top_k => 5, options => '{\"fraction_lists_to_search\": 0.01}');"
      ],
      "execution_count": null,
      "outputs": []
    }
  ],
  "metadata": {
    "kernelspec": {
      "display_name": "Python 3",
      "language": "python",
      "name": "python3"
    },
    "language_info": {
      "codemirror_mode": {
        "name": "ipython",
        "version": 3
      },
      "file_extension": ".py",
      "mimetype": "text/x-python",
      "name": "python",
      "nbconvert_exporter": "python",
      "pygments_lexer": "ipython3",
      "version": "3.10.10"
    },
    "colab": {
      "provenance": [],
      "name": "admin (Oct 22, 2024, 8:51:13 PM)"
    }
  },
  "nbformat": 4,
  "nbformat_minor": 5
}